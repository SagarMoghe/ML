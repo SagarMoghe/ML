{
 "nbformat": 4,
 "nbformat_minor": 0,
 "metadata": {
  "colab": {
   "name": "Denoising.ipynb",
   "provenance": [],
   "collapsed_sections": [],
   "machine_shape": "hm"
  },
  "kernelspec": {
   "name": "python3",
   "display_name": "Python 3"
  },
  "accelerator": "GPU",
  "pycharm": {
   "stem_cell": {
    "cell_type": "raw",
    "source": [],
    "metadata": {
     "collapsed": false
    }
   }
  }
 },
 "cells": [
  {
   "cell_type": "markdown",
   "metadata": {
    "id": "A18YdEhW2fFz",
    "colab_type": "text"
   },
   "source": [
    "Importing all the required libraries"
   ]
  },
  {
   "cell_type": "code",
   "metadata": {
    "id": "5tn4DHXBP518",
    "colab_type": "code",
    "colab": {}
   },
   "source": [
    "from sklearn.decomposition import PCA\n",
    "from sklearn.datasets import fetch_openml\n",
    "import torch\n",
    "import torch.nn as nn\n",
    "import torch.nn.functional as F\n",
    "import torch.optim as optim\n",
    "import numpy as np\n",
    "import matplotlib.pyplot as plt"
   ],
   "execution_count": 0,
   "outputs": []
  },
  {
   "cell_type": "markdown",
   "metadata": {
    "id": "sTFkPBTA2k9C",
    "colab_type": "text"
   },
   "source": [
    "Fetching the MNIST dataset"
   ]
  },
  {
   "cell_type": "code",
   "metadata": {
    "id": "vwY2DBh5P_Xj",
    "colab_type": "code",
    "colab": {}
   },
   "source": [
    "mnist = fetch_openml('mnist_784')"
   ],
   "execution_count": 0,
   "outputs": []
  },
  {
   "cell_type": "markdown",
   "metadata": {
    "id": "sAT4PnCR2pTN",
    "colab_type": "text"
   },
   "source": [
    "splitting the data into test and train and clipping the data to improve the performance"
   ]
  },
  {
   "cell_type": "code",
   "metadata": {
    "id": "g5G2DeG9QDc_",
    "colab_type": "code",
    "colab": {}
   },
   "source": [
    "train_data = mnist.data[:60000, :]\n",
    "test_data = mnist.data[60000:, :]\n",
    "train_label = mnist.target[:60000]\n",
    "test_label = mnist.target[60000:]\n",
    "\n",
    "train_data = np.clip(train_data.reshape(-1, 28*28), 0., 1.)\n",
    "test_data = np.clip(test_data.reshape(-1, 28*28), 0., 1.)\n"
   ],
   "execution_count": 0,
   "outputs": []
  },
  {
   "cell_type": "markdown",
   "metadata": {
    "id": "l2wIswxC2yLC",
    "colab_type": "text"
   },
   "source": [
    "Constructing the required PCA with appropriate varience level. i.e 90% & 50%"
   ]
  },
  {
   "cell_type": "code",
   "metadata": {
    "id": "Q64AwRFrQLW1",
    "colab_type": "code",
    "colab": {}
   },
   "source": [
    "pca = PCA(0.90)\n",
    "pca.fit(train_data)\n",
    "compress_train = pca.transform(train_data)\n",
    "compressed_test = pca.transform(test_data)\n",
    "\n",
    "\n",
    "train_data_reconstructed = pca.inverse_transform(compress_train)\n",
    "test_data_reconstructed = pca.inverse_transform(compressed_test)\n",
    "\n",
    "pca_50 = PCA(0.5)\n",
    "pca_50.fit(train_data)\n",
    "compress_train_50 = pca.transform(train_data)\n",
    "compressed_test_50 = pca.transform(test_data)\n",
    "\n",
    "\n",
    "train_data_reconstructed_50 = pca.inverse_transform(compress_train)\n",
    "test_data_reconstructed_50 = pca.inverse_transform(compressed_test)"
   ],
   "execution_count": 0,
   "outputs": []
  },
  {
   "cell_type": "markdown",
   "metadata": {
    "id": "dt-5PcRT3FoD",
    "colab_type": "text"
   },
   "source": [
    "Reformatting the data into appropriate form and converting them into tensors and creating train loaders"
   ]
  },
  {
   "cell_type": "code",
   "metadata": {
    "id": "X87vRrteQx34",
    "colab_type": "code",
    "colab": {}
   },
   "source": [
    "# train data and test data reconstructed converted into torch\n",
    "train_data_reconstructed=np.array(train_data_reconstructed,dtype=\"float32\")\n",
    "train_data_reconstructed=torch.from_numpy(train_data_reconstructed)\n",
    "\n",
    "test_data_reconstructed=np.array(test_data_reconstructed,dtype=\"float32\")\n",
    "test_data_reconstructed=torch.from_numpy(test_data_reconstructed)\n",
    "\n",
    "train_data_reconstructed_50=np.array(train_data_reconstructed_50,dtype=\"float32\")\n",
    "train_data_reconstructed_50=torch.from_numpy(train_data_reconstructed_50)\n",
    "\n",
    "test_data_reconstructed_50=np.array(test_data_reconstructed_50,dtype=\"float32\")\n",
    "test_data_reconstructed_50=torch.from_numpy(test_data_reconstructed_50)\n",
    "\n",
    "train_label=np.array(train_label,dtype=\"long\")\n",
    "train_label=torch.from_numpy(train_label)\n",
    "    \n",
    "test_label=np.array(test_label,dtype=\"long\")\n",
    "test_label=torch.from_numpy(test_label)\n",
    "\n",
    "#Scaled test train data converted into torch\n",
    "train_data=np.array(train_data,dtype=\"float32\")\n",
    "train_data=torch.from_numpy(train_data)\n",
    "test_data=np.array(test_data,dtype=\"float32\")\n",
    "test_data=torch.from_numpy(test_data)\n",
    "\n",
    "train_data=torch.reshape(train_data,(train_data.shape[0],1,28,28))\n",
    "test_data=torch.reshape(test_data,(test_data.shape[0],1,28,28))\n",
    "\n",
    "train_data_reconstructed_50=torch.reshape(train_data_reconstructed_50,(train_data_reconstructed_50.shape[0],1,28,28))\n",
    "test_data_reconstructed_50=torch.reshape(test_data_reconstructed_50,(test_data_reconstructed_50.shape[0],1,28,28))\n",
    "\n",
    "train_data_reconstructed=torch.reshape(train_data_reconstructed,(train_data_reconstructed.shape[0],1,28,28))\n",
    "test_data_reconstructed=torch.reshape(test_data_reconstructed,(test_data_reconstructed.shape[0],1,28,28))\n",
    "\n",
    "train_loader = torch.utils.data.DataLoader(list(zip(train_data_reconstructed,train_data)), batch_size=100, shuffle=False)\n",
    "test_loader = torch.utils.data.DataLoader(list(zip(test_data_reconstructed,test_data)), batch_size=100, shuffle=False)\n",
    "\n",
    "\n"
   ],
   "execution_count": 0,
   "outputs": []
  },
  {
   "cell_type": "markdown",
   "metadata": {
    "id": "qTkYKYNw3PdC",
    "colab_type": "text"
   },
   "source": [
    "Denoising autoencoder."
   ]
  },
  {
   "cell_type": "code",
   "metadata": {
    "id": "2C1_Zq4oREl-",
    "colab_type": "code",
    "colab": {}
   },
   "source": [
    "def denoiser(train_loader):\n",
    "    losses=[]\n",
    "    class Net(nn.Module):\n",
    "        def __init__(self):\n",
    "            super(Net, self).__init__()\n",
    "            ## encoder layers ##\n",
    "            # conv layer (depth from 1 --> 32), 3x3 kernels\n",
    "            self.conv1 = nn.Conv2d(1, 32, 3, padding=1)  \n",
    "            # conv layer (depth from 32 --> 16), 3x3 kernels\n",
    "            self.conv2 = nn.Conv2d(32, 16, 3, padding=1)\n",
    "            # conv layer (depth from 16 --> 8), 3x3 kernels\n",
    "            self.conv3 = nn.Conv2d(16, 8, 3, padding=1)\n",
    "            # pooling layer to reduce x-y dims by two; kernel and stride of 2\n",
    "            self.pool = nn.MaxPool2d(2, 2)\n",
    "            \n",
    "            ## decoder layers ##\n",
    "            # transpose layer, a kernel of 2 and a stride of 2 will increase the spatial dims by 2\n",
    "            self.t_conv1 = nn.ConvTranspose2d(8, 8, 3, stride=2)  # kernel_size=3 to get to a 7x7 image output\n",
    "            # two more transpose layers with a kernel of 2\n",
    "            self.t_conv2 = nn.ConvTranspose2d(8, 16, 2, stride=2)\n",
    "            self.t_conv3 = nn.ConvTranspose2d(16, 32, 2, stride=2)\n",
    "            # one, final, normal conv layer to decrease the depth\n",
    "            self.conv_out = nn.Conv2d(32, 1, 3, padding=1)        \n",
    "\n",
    "        def forward(self, x):\n",
    "            ## encode ##\n",
    "            # add hidden layers with relu activation function\n",
    "            # and maxpooling after\n",
    "            x = F.relu(self.conv1(x))\n",
    "            x = self.pool(x)\n",
    "            # add second hidden layer\n",
    "            x = F.relu(self.conv2(x))\n",
    "            x = self.pool(x)\n",
    "            # add third hidden layer\n",
    "            x = F.relu(self.conv3(x))\n",
    "            x = self.pool(x)  # compressed representation\n",
    "            \n",
    "            ## decode ##\n",
    "            # add transpose conv layers, with relu activation function\n",
    "            x = F.relu(self.t_conv1(x))\n",
    "            x = F.relu(self.t_conv2(x))\n",
    "            x = F.relu(self.t_conv3(x))\n",
    "            # transpose again, output should have a sigmoid applied\n",
    "            x = torch.sigmoid(self.conv_out(x))\n",
    "                    \n",
    "            return x\n",
    "\n",
    "    print(\"Initializing the network ...\")\n",
    "    net = Net()\n",
    "    net.cuda()\n",
    "    criterion = nn.MSELoss()\n",
    "    optimizer = optim.Adam(net.parameters(), lr=0.001) # lr = learning rate/step size\n",
    "\n",
    "    ##### Training the network ###################################################\n",
    "    print(\"Training the network ...\")\n",
    "    for e in range(10):  # loop over the dataset multiple times\n",
    "        #print(\"Epoch: \", e+1)\n",
    "        train_loss = 0.0\n",
    "        for data in train_loader:\n",
    "            inputs, labels = data \n",
    "            inputs=inputs.cuda()\n",
    "            labels = labels.cuda()\n",
    "            optimizer.zero_grad() # zero the parameter gradients\n",
    "\n",
    "            outputs = net(inputs) # forward pass\n",
    "            loss = criterion(outputs, labels) # compute loss\n",
    "            loss.backward() # backward pass\n",
    "            optimizer.step() # gradient descent update\n",
    "            train_loss += loss.item()*inputs.size(0)\n",
    "            losses.append(loss.item())\n",
    "            del inputs, outputs, data\n",
    "            torch.cuda.empty_cache()\n",
    "        train_loss = train_loss/len(train_loader)\n",
    "        print(\"Training loss: \"+ str(train_loss))\n",
    "\n",
    "    \n",
    "    \n",
    "\n",
    "    return losses, net"
   ],
   "execution_count": 0,
   "outputs": []
  },
  {
   "cell_type": "markdown",
   "metadata": {
    "id": "vQidyTU-3Wb0",
    "colab_type": "text"
   },
   "source": [
    "Creating the denoised data from PCA reconstructed data with 90% varience level"
   ]
  },
  {
   "cell_type": "code",
   "metadata": {
    "id": "r3eo4QYaWWXa",
    "colab_type": "code",
    "colab": {}
   },
   "source": [
    "def denoised(test_data, train_data, model):\n",
    "    # model.cpu()\n",
    "    batchmaker_train = torch.utils.data.DataLoader(train_data, batch_size=1000, shuffle=False)\n",
    "    denoised_test = model(test_data.cuda())\n",
    "    denoised_train = torch.Tensor()\n",
    "    for data in batchmaker_train:\n",
    "        temp = model(data.cuda())\n",
    "        temp = temp.detach().cpu()\n",
    "        denoised_train = torch.cat((denoised_train,temp), 0)\n",
    "        del temp\n",
    "\n",
    "    denoised_Test = denoised_test.detach()\n",
    "    denoised_Train = denoised_train.detach()\n",
    "    torch.cuda.empty_cache()\n",
    "    return denoised_Train, denoised_test"
   ],
   "execution_count": 0,
   "outputs": []
  },
  {
   "cell_type": "markdown",
   "metadata": {
    "id": "1OS15vdZ3nae",
    "colab_type": "text"
   },
   "source": [
    "Generating the denoised data"
   ]
  },
  {
   "cell_type": "code",
   "metadata": {
    "id": "zy8uxwqmYXql",
    "colab_type": "code",
    "colab": {}
   },
   "source": [
    "def train_denoiser(train_loader, train_data, test_data):\n",
    "    losses, net = denoiser(train_loader)\n",
    "    plt.plot(losses)\n",
    "    plt.show()\n",
    "    denoised_train, denoised_test = denoised(test_data, train_data, net)\n",
    "    return denoised_train, denoised_test"
   ],
   "execution_count": 0,
   "outputs": []
  },
  {
   "cell_type": "code",
   "metadata": {
    "id": "3fh-DT38Zh9G",
    "colab_type": "code",
    "colab": {
     "base_uri": "https://localhost:8080/",
     "height": 483
    },
    "outputId": "402e1efc-8a5f-4134-dc03-45919e968419"
   },
   "source": [
    "denoised_train, denoised_test = train_denoiser(train_loader, train_data, test_data)"
   ],
   "execution_count": 14,
   "outputs": [
    {
     "output_type": "stream",
     "text": [
      "Initializing the network ...\n",
      "Training the network ...\n",
      "Training loss: 9.851891024659077\n",
      "Training loss: 6.062742002308369\n",
      "Training loss: 5.497870312382777\n",
      "Training loss: 5.086966268097361\n",
      "Training loss: 4.8158592736969394\n",
      "Training loss: 4.616252112512787\n",
      "Training loss: 4.464988419786096\n",
      "Training loss: 4.343862993642688\n",
      "Training loss: 4.249506081764896\n",
      "Training loss: 4.1761176859339075\n"
     ],
     "name": "stdout"
    },
    {
     "output_type": "display_data",
     "data": {
      "image/png": "[encoded data removed]",
      "text/plain": [
       "<Figure size 432x288 with 1 Axes>"
      ]
     },
     "metadata": {
      "tags": []
     }
    }
   ]
  },
  {
   "cell_type": "markdown",
   "metadata": {
    "id": "p2cm8I6k4Rv4",
    "colab_type": "text"
   },
   "source": [
    "Sample image in denoised test set"
   ]
  },
  {
   "cell_type": "code",
   "metadata": {
    "id": "A2H2Pfv-morN",
    "colab_type": "code",
    "colab": {
     "base_uri": "https://localhost:8080/",
     "height": 283
    },
    "outputId": "55d9248e-1bbd-4856-efdd-cf9d1d9a6698"
   },
   "source": [
    "plt.imshow(denoised_test[0].cpu().detach().numpy().reshape(28,28))"
   ],
   "execution_count": 15,
   "outputs": [
    {
     "output_type": "execute_result",
     "data": {
      "text/plain": [
       "<matplotlib.image.AxesImage at 0x7f81412963c8>"
      ]
     },
     "metadata": {
      "tags": []
     },
     "execution_count": 15
    },
    {
     "output_type": "display_data",
     "data": {
      "image/png": "[encoded data removed]",
      "text/plain": [
       "<Figure size 432x288 with 1 Axes>"
      ]
     },
     "metadata": {
      "tags": []
     }
    }
   ]
  },
  {
   "cell_type": "markdown",
   "metadata": {
    "id": "SepnUH5o4ckU",
    "colab_type": "text"
   },
   "source": [
    "Sample image in denoised train set"
   ]
  },
  {
   "cell_type": "code",
   "metadata": {
    "id": "Crpqh8HoyyWf",
    "colab_type": "code",
    "colab": {
     "base_uri": "https://localhost:8080/",
     "height": 283
    },
    "outputId": "cc3eabf8-1ad8-47d1-9037-8770584fc25d"
   },
   "source": [
    "plt.imshow(denoised_train[0].cpu().detach().numpy().reshape(28,28))"
   ],
   "execution_count": 16,
   "outputs": [
    {
     "output_type": "execute_result",
     "data": {
      "text/plain": [
       "<matplotlib.image.AxesImage at 0x7f8140977a90>"
      ]
     },
     "metadata": {
      "tags": []
     },
     "execution_count": 16
    },
    {
     "output_type": "display_data",
     "data": {
      "image/png": "[encoded data removed]",
      "text/plain": [
       "<Figure size 432x288 with 1 Axes>"
      ]
     },
     "metadata": {
      "tags": []
     }
    }
   ]
  },
  {
   "cell_type": "markdown",
   "metadata": {
    "id": "wIvXpHFl4gys",
    "colab_type": "text"
   },
   "source": [
    "Simple CNN to train the images obtained from denoising and PCA reconstruction"
   ]
  },
  {
   "cell_type": "code",
   "metadata": {
    "id": "O6rKYogtplgS",
    "colab_type": "code",
    "colab": {}
   },
   "source": [
    "def eval_net(epochs, batch_size, train_data, train_label, test_data, test_label):\n",
    "    train_data_ = list(zip(train_data, train_label))\n",
    "    test_data_ = list(zip(test_data, test_label))\n",
    "    ##### Prepare return values ##################################################\n",
    "    losses = []\n",
    "    train_acc = 0\n",
    "    test_acc = 0\n",
    "\n",
    "    ##### Create iterators for each dataset ######################################\n",
    "    train_loader = torch.utils.data.DataLoader(train_data_, batch_size=batch_size, shuffle=False)\n",
    "    test_loader = torch.utils.data.DataLoader(test_data_, batch_size=batch_size, shuffle=False)\n",
    "\n",
    "##### Define the network #####################################################\n",
    "    class Net(nn.Module):\n",
    "        def __init__(self):\n",
    "            super(Net, self).__init__()\n",
    "            self.conv1 = nn.Conv2d(1, 6, 3)     # 1 channel in, 6 filters out, 3x3 filters\n",
    "            self.pool = nn.MaxPool2d(2, 2)      # 2x2 pooling, with a stride of 2 (move the window by 2 pixels)\n",
    "            self.conv2 = nn.Conv2d(6, 16, 3)    # 6 filters in, 16 filters out, 3x3 filters\n",
    "            self.fc1 = nn.Linear(16 * 5 * 5, 120) # the 16 filtered images are reduced to 5x5 now, connect to 120 hidden units out\n",
    "            self.fc2 = nn.Linear(120, 84)       # 120 hidden units in, 84 hidden units out\n",
    "            self.fc3 = nn.Linear(84, 10)        # 84 hidden units in, 10 outputs units\n",
    "\n",
    "        def forward(self, x):\n",
    "            x = self.pool(F.relu(self.conv1(x)))\n",
    "            x = self.pool(F.relu(self.conv2(x)))\n",
    "            x = x.view(-1, 16 * 5 * 5) # .view() is similar to .reshape(), so this flattens x into a vector\n",
    "            x = F.relu(self.fc1(x))\n",
    "            x = F.relu(self.fc2(x))\n",
    "            x = F.log_softmax(self.fc3(x), dim=1)\n",
    "            return x\n",
    "\n",
    "##### Initialize the network and optimizer ###################################\n",
    "    print(\"Initializing the network ...\")\n",
    "    net = Net()\n",
    "    net.cuda()\n",
    "    criterion = nn.CrossEntropyLoss()\n",
    "    optimizer = optim.RMSprop(net.parameters(), lr=0.001) # lr = learning rate/step size\n",
    "\n",
    "    ##### Training the network ###################################################\n",
    "    print(\"Training the network ...\")\n",
    "    for e in range(epochs):  # loop over the dataset multiple times\n",
    "        print(\"Epoch: \", e+1)\n",
    "        for data in train_loader:\n",
    "            inputs, labels = data\n",
    "            inputs = inputs.cuda()\n",
    "            labels = labels.cuda()\n",
    "            optimizer.zero_grad() # zero the parameter gradients\n",
    "            train_data_CNN\n",
    "            outputs = net(inputs) # forward pass\n",
    "            loss = criterion(outputs, labels) # compute loss\n",
    "            loss.backward() # backward pass  retain_graph = True\n",
    "            optimizer.step() # gradient descent update\n",
    "            losses.append(loss.item())\n",
    "            del inputs, labels\n",
    "        \n",
    "    ##### Evaluating the network on training data ################################\n",
    "    print(\"Evaluating on training data ...\")\n",
    "    correct = 0\n",
    "    total = 0\n",
    "    with torch.no_grad():\n",
    "        for data in train_loader:\n",
    "            inputs, labels = data\n",
    "            inputs = inputs.cuda()\n",
    "            labels = labels.cuda()\n",
    "            outputs = net(inputs)\n",
    "            _, predicted = torch.max(outputs.data, 1)\n",
    "            total += labels.size(0)\n",
    "            correct += (predicted == labels).sum().item()\n",
    "            del inputs, labels\n",
    "        train_acc = correct / total\n",
    "\n",
    "    #### Evaluating the network on test data ####################################\n",
    "    print(\"Evaluating on test data ...\")\n",
    "    correct = 0\n",
    "    total = 0\n",
    "    with torch.no_grad():\n",
    "        for data in test_loader:\n",
    "            inputs, labels = data\n",
    "            inputs = inputs.cuda()\n",
    "            labels = labels.cuda()\n",
    "            outputs = net(inputs)\n",
    "            _, predicted = torch.max(outputs.data, 1)\n",
    "            total += labels.size(0)\n",
    "            correct += (predicted == labels).sum().item()\n",
    "            del inputs, labels\n",
    "        test_acc = correct / total\n",
    "\n",
    "    return losses, train_acc, test_acc"
   ],
   "execution_count": 0,
   "outputs": []
  },
  {
   "cell_type": "markdown",
   "metadata": {
    "id": "jY-vcbis5PYb",
    "colab_type": "text"
   },
   "source": [
    "Training the CNN using Denoised data"
   ]
  },
  {
   "cell_type": "code",
   "metadata": {
    "id": "uHUxasrMpyrt",
    "colab_type": "code",
    "colab": {
     "base_uri": "https://localhost:8080/",
     "height": 555
    },
    "outputId": "1edf4f0a-7895-4689-cd12-afef4fa090c8"
   },
   "source": [
    "losses, train_acc, test_acc = eval_net(10, 100, denoised_train.detach(), train_label, denoised_test.detach(), test_label)\n",
    "print(\"Training accuracy: \", train_acc)\n",
    "print(\"Training accuracy: \", test_acc)\n",
    "plt.plot(losses)\n",
    "plt.show()"
   ],
   "execution_count": 133,
   "outputs": [
    {
     "output_type": "stream",
     "text": [
      "Initializing the network ...\n",
      "Training the network ...\n",
      "Epoch:  1\n",
      "Epoch:  2\n",
      "Epoch:  3\n",
      "Epoch:  4\n",
      "Epoch:  5\n",
      "Epoch:  6\n",
      "Epoch:  7\n",
      "Epoch:  8\n",
      "Epoch:  9\n",
      "Epoch:  10\n",
      "Evaluating on training data ...\n",
      "Evaluating on test data ...\n",
      "Training accuracy:  0.9587666666666667\n",
      "Training accuracy:  0.951\n"
     ],
     "name": "stdout"
    },
    {
     "output_type": "display_data",
     "data": {
      "image/png": "[encoded data removed]",
      "text/plain": [
       "<Figure size 432x288 with 1 Axes>"
      ]
     },
     "metadata": {
      "tags": []
     }
    }
   ]
  },
  {
   "cell_type": "markdown",
   "metadata": {
    "id": "yQZQlWq85WhT",
    "colab_type": "text"
   },
   "source": [
    "Training the CNN using PCA reconstructed data."
   ]
  },
  {
   "cell_type": "code",
   "metadata": {
    "id": "tGE7pYyivfDa",
    "colab_type": "code",
    "colab": {
     "base_uri": "https://localhost:8080/",
     "height": 555
    },
    "outputId": "a4cebf34-58b2-4e0a-cb7b-4237a6ff2100"
   },
   "source": [
    "losses, train_acc, test_acc = eval_net(10, 100, train_data_reconstructed_50, train_label, test_data_reconstructed_50, test_label)\n",
    "print(\"Training accuracy: \", train_acc)\n",
    "print(\"Training accuracy: \", test_acc)\n",
    "plt.plot(losses)\n",
    "plt.show()"
   ],
   "execution_count": 136,
   "outputs": [
    {
     "output_type": "stream",
     "text": [
      "Initializing the network ...\n",
      "Training the network ...\n",
      "Epoch:  1\n",
      "Epoch:  2\n",
      "Epoch:  3\n",
      "Epoch:  4\n",
      "Epoch:  5\n",
      "Epoch:  6\n",
      "Epoch:  7\n",
      "Epoch:  8\n",
      "Epoch:  9\n",
      "Epoch:  10\n",
      "Evaluating on training data ...\n",
      "Evaluating on test data ...\n",
      "Training accuracy:  0.98555\n",
      "Training accuracy:  0.9801\n"
     ],
     "name": "stdout"
    },
    {
     "output_type": "display_data",
     "data": {
      "image/png": "[encoded data removed]",
      "text/plain": [
       "<Figure size 432x288 with 1 Axes>"
      ]
     },
     "metadata": {
      "tags": []
     }
    }
   ]
  },
  {
   "cell_type": "markdown",
   "metadata": {
    "id": "yxinn2BL5dTM",
    "colab_type": "text"
   },
   "source": [
    "Comparison: I observed that CNN was able to better perform on reconstructed data than on the denoised data but both of the models were able to obtain a minimum accuracy of 96%.\n",
    "\n",
    "References:\n",
    "Autoencoder code used to denoise the data was adapted from github of cezannec: https://github.com/udacity/deep-learning-v2-pytorch/blob/master/autoencoder/denoising-autoencoder/Denoising_Autoencoder_Solution.ipynb"
   ]
  }
 ]
}